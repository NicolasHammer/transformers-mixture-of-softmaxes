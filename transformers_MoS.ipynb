{
 "metadata": {
  "language_info": {
   "codemirror_mode": {
    "name": "ipython",
    "version": 3
   },
   "file_extension": ".py",
   "mimetype": "text/x-python",
   "name": "python",
   "nbconvert_exporter": "python",
   "pygments_lexer": "ipython3",
   "version": "3.8.3"
  },
  "orig_nbformat": 2,
  "kernelspec": {
   "name": "python383jvsc74a57bd07dfc39e2c86bf15d26cdaf7af3b6a503035b5583dc7ceba661ecec139caebdd8",
   "display_name": "Python 3.8.3 64-bit ('.venv': venv)"
  }
 },
 "nbformat": 4,
 "nbformat_minor": 2,
 "cells": [
  {
   "source": [
    "# Breaking the Transformer Bottleneck"
   ],
   "cell_type": "markdown",
   "metadata": {}
  },
  {
   "source": [
    "## Preparing Data"
   ],
   "cell_type": "markdown",
   "metadata": {}
  },
  {
   "cell_type": "code",
   "execution_count": 1,
   "metadata": {},
   "outputs": [],
   "source": [
    "# Importing relevant packages\n",
    "import io\n",
    "import time\n",
    "import math\n",
    "from collections import Counter\n",
    "\n",
    "import torch\n",
    "import torch.nn as nn\n",
    "from torchtext.datasets import WikiText2\n",
    "from torchtext.data.utils import get_tokenizer\n",
    "from torchtext.vocab import Vocab\n",
    "\n",
    "## Importing custom files\n",
    "from data_import import wikitext\n",
    "from model import transformer_model\n",
    "\n",
    "## Establishing devices\n",
    "device = torch.device(\"cuda\" if torch.cuda.is_available() else \"cpu\")"
   ]
  },
  {
   "cell_type": "code",
   "execution_count": 2,
   "metadata": {},
   "outputs": [],
   "source": [
    "# Setting up vocabulary\n",
    "train_iter = WikiText2(split='train')\n",
    "tokenizer = get_tokenizer('basic_english')\n",
    "counter = Counter()\n",
    "for line in train_iter:\n",
    "    counter.update(tokenizer(line))\n",
    "vocab = Vocab(counter)"
   ]
  },
  {
   "cell_type": "code",
   "execution_count": 3,
   "metadata": {},
   "outputs": [],
   "source": [
    "# Splitting data\n",
    "train_iter, val_iter, test_iter = WikiText2()\n",
    "train_data = wikitext.data_process(train_iter, vocab, tokenizer)\n",
    "val_data = wikitext.data_process(val_iter, vocab, tokenizer)\n",
    "test_data = wikitext.data_process(test_iter, vocab, tokenizer)\n",
    "\n",
    "## Batch data\n",
    "batch_size = 20\n",
    "eval_batch_size = 10\n",
    "train_data = wikitext.batchify(train_data, batch_size, device)\n",
    "val_data = wikitext.batchify(val_data, eval_batch_size, device)\n",
    "test_data = wikitext.batchify(test_data, eval_batch_size, device)\n",
    "\n",
    "chunk_length = 35"
   ]
  },
  {
   "source": [
    "## Initiate an Instance"
   ],
   "cell_type": "markdown",
   "metadata": {}
  },
  {
   "cell_type": "code",
   "execution_count": 4,
   "metadata": {},
   "outputs": [],
   "source": [
    "# Establish hyperparameters\n",
    "\n",
    "ntokens = len(vocab.stoi) # the size of vocabulary\n",
    "emsize = 200 # embedding dimension\n",
    "nhid = 200 # the dimension of the feedforward network model in nn.TransformerEncoder\n",
    "nlayers = 2 # the number of nn.TransformerEncoderLayer in nn.TransformerEncoder\n",
    "nhead = 2 # the number of heads in the multiheadattention models\n",
    "dropout = 0.2 # the dropout value\n",
    "model = transformer_model.TransformerModel(ntokens, emsize, nhead, nhid, nlayers, dropout).to(device)"
   ]
  },
  {
   "source": [
    "## Train the Model"
   ],
   "cell_type": "markdown",
   "metadata": {}
  },
  {
   "cell_type": "code",
   "execution_count": 5,
   "metadata": {},
   "outputs": [],
   "source": [
    "criterion = nn.CrossEntropyLoss()\n",
    "lr = 5.0 # learning rate\n",
    "optimizer = torch.optim.SGD(model.parameters(), lr=lr)\n",
    "scheduler = torch.optim.lr_scheduler.StepLR(optimizer, 1.0, gamma=0.95)\n",
    "\n",
    "def train():\n",
    "    model.train() # Turn on the train mode\n",
    "    total_loss = 0.\n",
    "    start_time = time.time()\n",
    "    src_mask = model.generate_square_subsequent_mask(chunk_length).to(device)\n",
    "    for batch, i in enumerate(range(0, train_data.size(0) - 1, chunk_length)):\n",
    "        data, targets = wikitext.get_batch(train_data, i, chunk_length)\n",
    "        optimizer.zero_grad()\n",
    "        if data.size(0) != chunk_length:\n",
    "            src_mask = model.generate_square_subsequent_mask(data.size(0)).to(device)\n",
    "        output = model(data, src_mask)\n",
    "        loss = criterion(output.view(-1, ntokens), targets)\n",
    "        loss.backward()\n",
    "        torch.nn.utils.clip_grad_norm_(model.parameters(), 0.5)\n",
    "        optimizer.step()\n",
    "\n",
    "        total_loss += loss.item()\n",
    "        log_interval = 200\n",
    "        if batch % log_interval == 0 and batch > 0:\n",
    "            cur_loss = total_loss / log_interval\n",
    "            elapsed = time.time() - start_time\n",
    "            print('| epoch {:3d} | {:5d}/{:5d} batches | '\n",
    "                  'lr {:02.2f} | ms/batch {:5.2f} | '\n",
    "                  'loss {:5.2f} | ppl {:8.2f}'.format(\n",
    "                    epoch, batch, len(train_data) // chunk_length, scheduler.get_last_lr()[0],\n",
    "                    elapsed * 1000 / log_interval,\n",
    "                    cur_loss, math.exp(cur_loss)))\n",
    "            total_loss = 0\n",
    "            start_time = time.time()\n",
    "\n",
    "def evaluate(eval_model, data_source):\n",
    "    eval_model.eval() # Turn on the evaluation mode\n",
    "    total_loss = 0.\n",
    "    src_mask = model.generate_square_subsequent_mask(chunk_length).to(device)\n",
    "    with torch.no_grad():\n",
    "        for i in range(0, data_source.size(0) - 1, chunk_length):\n",
    "            data, targets = wikitext.get_batch(data_source, i, chunk_length)\n",
    "            if data.size(0) != chunk_length:\n",
    "                src_mask = model.generate_square_subsequent_mask(data.size(0)).to(device)\n",
    "            output = eval_model(data, src_mask)\n",
    "            output_flat = output.view(-1, ntokens)\n",
    "            total_loss += len(data) * criterion(output_flat, targets).item()\n",
    "    return total_loss / (len(data_source) - 1)"
   ]
  },
  {
   "cell_type": "code",
   "execution_count": 6,
   "metadata": {},
   "outputs": [
    {
     "output_type": "stream",
     "name": "stdout",
     "text": [
      "| epoch   1 |   200/ 2928 batches | lr 5.00 | ms/batch 10.42 | loss  8.09 | ppl  3262.31\n",
      "| epoch   1 |   400/ 2928 batches | lr 5.00 | ms/batch 10.13 | loss  6.83 | ppl   926.20\n",
      "| epoch   1 |   600/ 2928 batches | lr 5.00 | ms/batch 10.14 | loss  6.43 | ppl   618.75\n",
      "| epoch   1 |   800/ 2928 batches | lr 5.00 | ms/batch 10.17 | loss  6.30 | ppl   542.60\n",
      "| epoch   1 |  1000/ 2928 batches | lr 5.00 | ms/batch 10.16 | loss  6.18 | ppl   483.67\n",
      "| epoch   1 |  1200/ 2928 batches | lr 5.00 | ms/batch 10.17 | loss  6.15 | ppl   470.01\n",
      "| epoch   1 |  1400/ 2928 batches | lr 5.00 | ms/batch 10.17 | loss  6.11 | ppl   449.82\n",
      "| epoch   1 |  1600/ 2928 batches | lr 5.00 | ms/batch 10.17 | loss  6.11 | ppl   449.88\n",
      "| epoch   1 |  1800/ 2928 batches | lr 5.00 | ms/batch 10.18 | loss  6.02 | ppl   413.48\n",
      "| epoch   1 |  2000/ 2928 batches | lr 5.00 | ms/batch 10.17 | loss  6.02 | ppl   409.61\n",
      "| epoch   1 |  2200/ 2928 batches | lr 5.00 | ms/batch 10.17 | loss  5.90 | ppl   363.39\n",
      "| epoch   1 |  2400/ 2928 batches | lr 5.00 | ms/batch 10.16 | loss  5.97 | ppl   392.50\n",
      "| epoch   1 |  2600/ 2928 batches | lr 5.00 | ms/batch 10.16 | loss  5.95 | ppl   384.42\n",
      "| epoch   1 |  2800/ 2928 batches | lr 5.00 | ms/batch 10.17 | loss  5.88 | ppl   356.93\n",
      "-----------------------------------------------------------------------------------------\n",
      "| end of epoch   1 | time: 31.07s | valid loss  5.77 | valid ppl   320.69\n",
      "-----------------------------------------------------------------------------------------\n",
      "| epoch   2 |   200/ 2928 batches | lr 4.75 | ms/batch 10.22 | loss  5.86 | ppl   351.40\n",
      "| epoch   2 |   400/ 2928 batches | lr 4.75 | ms/batch 10.17 | loss  5.85 | ppl   347.02\n",
      "| epoch   2 |   600/ 2928 batches | lr 4.75 | ms/batch 10.20 | loss  5.67 | ppl   288.95\n",
      "| epoch   2 |   800/ 2928 batches | lr 4.75 | ms/batch 10.22 | loss  5.71 | ppl   300.96\n",
      "| epoch   2 |  1000/ 2928 batches | lr 4.75 | ms/batch 10.22 | loss  5.65 | ppl   283.69\n",
      "| epoch   2 |  1200/ 2928 batches | lr 4.75 | ms/batch 10.23 | loss  5.68 | ppl   292.64\n",
      "| epoch   2 |  1400/ 2928 batches | lr 4.75 | ms/batch 10.21 | loss  5.68 | ppl   293.97\n",
      "| epoch   2 |  1600/ 2928 batches | lr 4.75 | ms/batch 10.19 | loss  5.71 | ppl   300.83\n",
      "| epoch   2 |  1800/ 2928 batches | lr 4.75 | ms/batch 10.20 | loss  5.65 | ppl   283.81\n",
      "| epoch   2 |  2000/ 2928 batches | lr 4.75 | ms/batch 10.19 | loss  5.67 | ppl   288.60\n",
      "| epoch   2 |  2200/ 2928 batches | lr 4.75 | ms/batch 10.23 | loss  5.54 | ppl   255.04\n",
      "| epoch   2 |  2400/ 2928 batches | lr 4.75 | ms/batch 10.24 | loss  5.64 | ppl   282.68\n",
      "| epoch   2 |  2600/ 2928 batches | lr 4.75 | ms/batch 10.24 | loss  5.64 | ppl   281.36\n",
      "| epoch   2 |  2800/ 2928 batches | lr 4.75 | ms/batch 10.24 | loss  5.57 | ppl   263.59\n",
      "-----------------------------------------------------------------------------------------\n",
      "| end of epoch   2 | time: 31.19s | valid loss  5.65 | valid ppl   282.93\n",
      "-----------------------------------------------------------------------------------------\n",
      "| epoch   3 |   200/ 2928 batches | lr 4.51 | ms/batch 10.30 | loss  5.60 | ppl   269.26\n",
      "| epoch   3 |   400/ 2928 batches | lr 4.51 | ms/batch 10.24 | loss  5.60 | ppl   271.26\n",
      "| epoch   3 |   600/ 2928 batches | lr 4.51 | ms/batch 10.26 | loss  5.41 | ppl   223.23\n",
      "| epoch   3 |   800/ 2928 batches | lr 4.51 | ms/batch 10.24 | loss  5.48 | ppl   238.66\n",
      "| epoch   3 |  1000/ 2928 batches | lr 4.51 | ms/batch 10.25 | loss  5.42 | ppl   226.37\n",
      "| epoch   3 |  1200/ 2928 batches | lr 4.51 | ms/batch 10.25 | loss  5.47 | ppl   237.87\n",
      "| epoch   3 |  1400/ 2928 batches | lr 4.51 | ms/batch 10.29 | loss  5.48 | ppl   240.58\n",
      "| epoch   3 |  1600/ 2928 batches | lr 4.51 | ms/batch 10.30 | loss  5.51 | ppl   247.91\n",
      "| epoch   3 |  1800/ 2928 batches | lr 4.51 | ms/batch 10.30 | loss  5.45 | ppl   232.75\n",
      "| epoch   3 |  2000/ 2928 batches | lr 4.51 | ms/batch 10.33 | loss  5.47 | ppl   237.86\n",
      "| epoch   3 |  2200/ 2928 batches | lr 4.51 | ms/batch 10.31 | loss  5.34 | ppl   209.48\n",
      "| epoch   3 |  2400/ 2928 batches | lr 4.51 | ms/batch 10.30 | loss  5.45 | ppl   233.77\n",
      "| epoch   3 |  2600/ 2928 batches | lr 4.51 | ms/batch 10.31 | loss  5.46 | ppl   234.71\n",
      "| epoch   3 |  2800/ 2928 batches | lr 4.51 | ms/batch 10.30 | loss  5.39 | ppl   219.11\n",
      "-----------------------------------------------------------------------------------------\n",
      "| end of epoch   3 | time: 31.41s | valid loss  5.64 | valid ppl   280.26\n",
      "-----------------------------------------------------------------------------------------\n"
     ]
    }
   ],
   "source": [
    "# Loop over epochs\n",
    "best_val_loss = float(\"inf\")\n",
    "epochs = 3 # The number of epochs\n",
    "best_model = None\n",
    "\n",
    "for epoch in range(1, epochs + 1):\n",
    "    epoch_start_time = time.time()\n",
    "    train()\n",
    "    val_loss = evaluate(model, val_data)\n",
    "    print('-' * 89)\n",
    "    print('| end of epoch {:3d} | time: {:5.2f}s | valid loss {:5.2f} | '\n",
    "          'valid ppl {:8.2f}'.format(epoch, (time.time() - epoch_start_time),\n",
    "                                     val_loss, math.exp(val_loss)))\n",
    "    print('-' * 89)\n",
    "\n",
    "    if val_loss < best_val_loss:\n",
    "        best_val_loss = val_loss\n",
    "        best_model = model\n",
    "\n",
    "    scheduler.step()"
   ]
  },
  {
   "source": [
    "## Evaluate the Model"
   ],
   "cell_type": "markdown",
   "metadata": {}
  },
  {
   "cell_type": "code",
   "execution_count": 8,
   "metadata": {},
   "outputs": [
    {
     "output_type": "stream",
     "name": "stdout",
     "text": [
      "=========================================================================================\n| End of training | test loss  5.54 | test ppl   254.43\n=========================================================================================\n"
     ]
    }
   ],
   "source": [
    "test_loss = evaluate(best_model, test_data)\n",
    "print('=' * 89)\n",
    "print('| End of training | test loss {:5.2f} | test ppl {:8.2f}'.format(\n",
    "    test_loss, math.exp(test_loss)))\n",
    "print('=' * 89)"
   ]
  },
  {
   "cell_type": "code",
   "execution_count": null,
   "metadata": {},
   "outputs": [],
   "source": []
  }
 ]
}