{
 "metadata": {
  "language_info": {
   "codemirror_mode": {
    "name": "ipython",
    "version": 3
   },
   "file_extension": ".py",
   "mimetype": "text/x-python",
   "name": "python",
   "nbconvert_exporter": "python",
   "pygments_lexer": "ipython3",
   "version": "3.8.3"
  },
  "orig_nbformat": 2,
  "kernelspec": {
   "name": "python383jvsc74a57bd07dfc39e2c86bf15d26cdaf7af3b6a503035b5583dc7ceba661ecec139caebdd8",
   "display_name": "Python 3.8.3 64-bit ('.venv': venv)"
  }
 },
 "nbformat": 4,
 "nbformat_minor": 2,
 "cells": [
  {
   "source": [
    "# Breaking the Transformer Bottleneck"
   ],
   "cell_type": "markdown",
   "metadata": {}
  },
  {
   "source": [
    "## Preparing Data"
   ],
   "cell_type": "markdown",
   "metadata": {}
  },
  {
   "cell_type": "code",
   "execution_count": 4,
   "metadata": {},
   "outputs": [],
   "source": [
    "# Importing relevant packages\n",
    "import io\n",
    "import torch\n",
    "from torchtext.datasets import WikiText2\n",
    "from torchtext.data.utils import get_tokenizer\n",
    "from collections import Counter\n",
    "from torchtext.vocab import Vocab\n",
    "\n",
    "## Importing custom files\n",
    "from data import wikitext\n",
    "\n",
    "## Establishing devices\n",
    "device = torch.device(\"cuda\" if torch.cuda.is_available() else \"cpu\")"
   ]
  },
  {
   "cell_type": "code",
   "execution_count": 2,
   "metadata": {},
   "outputs": [
    {
     "output_type": "stream",
     "name": "stderr",
     "text": [
      "wikitext-2-v1.zip: 100%|██████████| 4.48M/4.48M [00:02<00:00, 2.20MB/s]\n"
     ]
    }
   ],
   "source": [
    "# Setting up vocabulary\n",
    "train_iter = WikiText2(split='train')\n",
    "tokenizer = get_tokenizer('basic_english')\n",
    "counter = Counter()\n",
    "for line in train_iter:\n",
    "    counter.update(tokenizer(line))\n",
    "vocab = Vocab(counter)"
   ]
  },
  {
   "cell_type": "code",
   "execution_count": 5,
   "metadata": {},
   "outputs": [],
   "source": [
    "# Splitting data\n",
    "train_iter, val_iter, test_iter = WikiText2()\n",
    "train_data = wikitext.data_process(train_iter, vocab, tokenizer)\n",
    "val_data = wikitext.data_process(val_iter, vocab, tokenizer)\n",
    "test_data = wikitext.data_process(test_iter, vocab, tokenizer)\n",
    "\n",
    "## Batch data\n",
    "batch_size = 20\n",
    "eval_batch_size = 10\n",
    "train_data = wikitext.batchify(train_data, batch_size, device)\n",
    "val_data = wikitext.batchify(val_data, eval_batch_size, device)\n",
    "test_data = wikitext.batchify(test_data, eval_batch_size, device)\n",
    "\n",
    "chunk_length = 35"
   ]
  },
  {
   "cell_type": "code",
   "execution_count": null,
   "metadata": {},
   "outputs": [],
   "source": []
  }
 ]
}